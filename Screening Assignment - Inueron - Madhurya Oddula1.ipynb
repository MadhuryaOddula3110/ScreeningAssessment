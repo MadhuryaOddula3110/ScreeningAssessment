{
 "cells": [
  {
   "cell_type": "raw",
   "metadata": {},
   "source": [
    "1. Create a function in python to read the text file and replace specific content\n",
    "of the file.\n",
    "File name example.txt\n",
    "Origin file content This is a placement assignment\n",
    "Replace string Placement should be replaced by\n",
    "screening.\n",
    "Replaced file content This is a screening assignment"
   ]
  },
  {
   "cell_type": "code",
   "execution_count": 2,
   "metadata": {},
   "outputs": [],
   "source": [
    "#first open the file example.tx\n",
    "Myfile = open(\"example.txt\", \"rt\")\n",
    "#then read the file\n",
    "Myfiledata = Myfile.read()\n",
    "#now we need to replace the words\n",
    "Myfiledata = Myfiledata.replace(\"placement\",\"screening\")\n",
    "Myfile.close()\n",
    "\n",
    "#open the file in write mode\n",
    "Myfile = open(\"example.txt\", \"wt\")\n",
    "Myfile.write(Myfiledata)\n",
    "Myfile.close()"
   ]
  },
  {
   "cell_type": "markdown",
   "metadata": {},
   "source": [
    "2. Demonstrate use of abstract class, multiple inheritance and decorator in\n",
    "python using examples."
   ]
  },
  {
   "cell_type": "markdown",
   "metadata": {},
   "source": [
    "2.a ) Decorator Usage"
   ]
  },
  {
   "cell_type": "code",
   "execution_count": 34,
   "metadata": {},
   "outputs": [],
   "source": [
    "def tellmom(func):\n",
    "    def tellhusband():\n",
    "        print(\"Wife says\" + \" Pay sem fee of our child\")\n",
    "        func()\n",
    "        print(\"Message conveyed to husband from child to mom and from child to dad\")\n",
    "    return tellhusband()"
   ]
  },
  {
   "cell_type": "code",
   "execution_count": 36,
   "metadata": {},
   "outputs": [
    {
     "name": "stdout",
     "output_type": "stream",
     "text": [
      "Wife says Pay sem fee of our child\n",
      "Pay my sem fee\n",
      "Message conveyed to husband from child to mom and from child to dad\n"
     ]
    }
   ],
   "source": [
    "@tellmom\n",
    "def childmessage():\n",
    "    print(\"Pay my sem fee\")"
   ]
  },
  {
   "cell_type": "markdown",
   "metadata": {},
   "source": [
    "2.b) Abstract classes in Python"
   ]
  },
  {
   "cell_type": "code",
   "execution_count": 42,
   "metadata": {},
   "outputs": [
    {
     "name": "stdout",
     "output_type": "stream",
     "text": [
      "We code\n",
      "We beautify people\n",
      "We train people to stay fit\n"
     ]
    }
   ],
   "source": [
    "from abc import ABC,abstractmethod\n",
    "class Bangalorians():\n",
    "    @abstractmethod\n",
    "    def OurJob(self):\n",
    "        pass\n",
    "    \n",
    "class ITEmployees(Bangalorians):\n",
    "    def OurJob(self):\n",
    "        print (\"We code\")\n",
    "    \n",
    "class Beauticians(Bangalorians):\n",
    "    def OurJob(self):\n",
    "        print(\"We beautify people\")\n",
    "        \n",
    "class Gymtrainers(Bangalorians):\n",
    "    def OurJob(self):\n",
    "        print(\"We train people to stay fit\")\n",
    "        \n",
    "obj1 = ITEmployees()\n",
    "obj1.OurJob()\n",
    "\n",
    "obj2 = Beauticians()\n",
    "obj2.OurJob()\n",
    "\n",
    "obj3 = Gymtrainers()\n",
    "obj3.OurJob()"
   ]
  },
  {
   "cell_type": "markdown",
   "metadata": {},
   "source": [
    "2 c) Multiple Inheritance in Python"
   ]
  },
  {
   "cell_type": "code",
   "execution_count": 46,
   "metadata": {},
   "outputs": [
    {
     "name": "stdout",
     "output_type": "stream",
     "text": [
      "B\n"
     ]
    }
   ],
   "source": [
    "class A:\n",
    "    def method1(self):\n",
    "        print(\"A\")\n",
    "       \n",
    "class B(A):\n",
    "    def method1(self):\n",
    "        print(\"B\")\n",
    " \n",
    "class C(A):\n",
    "    def method1(self):\n",
    "        print(\"C\") \n",
    "        \n",
    "class D(B,C):\n",
    "    pass  \n",
    "     \n",
    "obj = D()\n",
    "obj.method1()"
   ]
  },
  {
   "cell_type": "code",
   "execution_count": 47,
   "metadata": {},
   "outputs": [
    {
     "name": "stdout",
     "output_type": "stream",
     "text": [
      "C\n"
     ]
    }
   ],
   "source": [
    "class A:\n",
    "    def method1(self):\n",
    "        print(\"A\")\n",
    "       \n",
    "class B(A):\n",
    "    def method1(self):\n",
    "        print(\"B\")\n",
    " \n",
    "class C(A):\n",
    "    def method1(self):\n",
    "        print(\"C\") \n",
    "        \n",
    "class D(C,B):\n",
    "    pass  \n",
    "     \n",
    "obj = D()\n",
    "obj.method1()"
   ]
  },
  {
   "cell_type": "code",
   "execution_count": 49,
   "metadata": {},
   "outputs": [],
   "source": []
  }
 ],
 "metadata": {
  "kernelspec": {
   "display_name": "Python 3",
   "language": "python",
   "name": "python3"
  },
  "language_info": {
   "codemirror_mode": {
    "name": "ipython",
    "version": 3
   },
   "file_extension": ".py",
   "mimetype": "text/x-python",
   "name": "python",
   "nbconvert_exporter": "python",
   "pygments_lexer": "ipython3",
   "version": "3.8.5"
  }
 },
 "nbformat": 4,
 "nbformat_minor": 4
}
